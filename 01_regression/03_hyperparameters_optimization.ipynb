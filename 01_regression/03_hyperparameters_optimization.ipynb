{
 "cells": [
  {
   "cell_type": "markdown",
   "id": "5e347120-c24a-4912-a925-a254865e8242",
   "metadata": {},
   "source": [
    "In this notebook:\n",
    "- We will use the `sklearn.datasets.load_diabetes` dataset\n",
    "- Fit diferent regression models to this dataset\n",
    "- Optimize the model hyperparameters to fine tune our models"
   ]
  },
  {
   "cell_type": "markdown",
   "id": "456f522b-fe5b-4c49-b698-5abc26a01219",
   "metadata": {},
   "source": [
    "## Import modules"
   ]
  },
  {
   "cell_type": "code",
   "execution_count": 1,
   "id": "56401fa5-9506-461f-8c5f-a0f1a0892f25",
   "metadata": {},
   "outputs": [],
   "source": [
    "import numpy as np\n",
    "import pandas as pd\n",
    "from datetime import datetime\n",
    "from sklearn.datasets import load_diabetes\n",
    "from sklearn.model_selection import train_test_split\n",
    "from sklearn.linear_model import (LinearRegression,\n",
    "                                    ElasticNet,\n",
    "                                    BayesianRidge,\n",
    "                                    Lasso,\n",
    "                                    LassoCV)\n",
    "from sklearn.neighbors import KNeighborsRegressor\n",
    "from sklearn.svm import SVR\n",
    "from sklearn.tree import DecisionTreeRegressor\n",
    "from sklearn.ensemble import RandomForestRegressor\n",
    "from sklearn.model_selection import KFold, GridSearchCV\n",
    "from sklearn.metrics import (r2_score,\n",
    "                                mean_absolute_error,\n",
    "                                mean_squared_error,\n",
    "                                root_mean_squared_error,\n",
    "                                max_error)\n",
    "import warnings\n",
    "warnings.filterwarnings('ignore')"
   ]
  },
  {
   "cell_type": "markdown",
   "id": "45ed402e-1c01-45c0-80f3-b8fac89d4aa9",
   "metadata": {},
   "source": [
    "## Dataset for regression"
   ]
  },
  {
   "cell_type": "markdown",
   "id": "f0aaea20-1225-4e4e-9d52-b70ace99c8b2",
   "metadata": {},
   "source": [
    "Diabetes dataset from scikit-learn"
   ]
  },
  {
   "cell_type": "code",
   "execution_count": 2,
   "id": "cc3b9cca-9028-409b-aeb4-ff02cee4484c",
   "metadata": {},
   "outputs": [],
   "source": [
    "diabetes = load_diabetes()"
   ]
  },
  {
   "cell_type": "code",
   "execution_count": 3,
   "id": "4b3e340d-9320-48a6-99e5-06486686ee6b",
   "metadata": {},
   "outputs": [
    {
     "data": {
      "text/plain": [
       "(442, 10)"
      ]
     },
     "execution_count": 3,
     "metadata": {},
     "output_type": "execute_result"
    }
   ],
   "source": [
    "diabetes.data.shape"
   ]
  },
  {
   "cell_type": "code",
   "execution_count": 4,
   "id": "46fccbeb-41f1-4df7-a244-aed5905631e7",
   "metadata": {},
   "outputs": [
    {
     "data": {
      "text/plain": [
       "(442,)"
      ]
     },
     "execution_count": 4,
     "metadata": {},
     "output_type": "execute_result"
    }
   ],
   "source": [
    "diabetes.target.shape"
   ]
  },
  {
   "cell_type": "code",
   "execution_count": 5,
   "id": "6214cc71-1a18-4a6b-909e-e0a2ef1cb898",
   "metadata": {},
   "outputs": [
    {
     "data": {
      "text/plain": [
       "['age', 'sex', 'bmi', 'bp', 's1', 's2', 's3', 's4', 's5', 's6']"
      ]
     },
     "execution_count": 5,
     "metadata": {},
     "output_type": "execute_result"
    }
   ],
   "source": [
    "diabetes.feature_names"
   ]
  },
  {
   "cell_type": "code",
   "execution_count": 6,
   "id": "c17afc0f-d4b0-4038-a793-09678d9697e5",
   "metadata": {},
   "outputs": [],
   "source": [
    "X_train, X_test, y_train, y_test = train_test_split(diabetes.data,\n",
    "                                                    diabetes.target,\n",
    "                                                    test_size=0.20,\n",
    "                                                    random_state=101)"
   ]
  },
  {
   "cell_type": "markdown",
   "id": "9373d568-0f53-4046-8365-c97fee423923",
   "metadata": {},
   "source": [
    "## Regresion without hyperparameter optimization"
   ]
  },
  {
   "cell_type": "code",
   "execution_count": 7,
   "id": "1740eec7-4806-4ad8-8c30-04d27b1608d6",
   "metadata": {},
   "outputs": [],
   "source": [
    "models = {'Linear Regresion': LinearRegression(),\n",
    "          'Lasso': Lasso(),\n",
    "          'DecisionTreeRegressor': DecisionTreeRegressor(),\n",
    "          'Elastic Net': ElasticNet(),\n",
    "          'SVR': SVR()\n",
    "         }"
   ]
  },
  {
   "cell_type": "code",
   "execution_count": 8,
   "id": "a6ddc8e4-9450-4db1-a890-be1b3a9911a9",
   "metadata": {},
   "outputs": [
    {
     "name": "stdout",
     "output_type": "stream",
     "text": [
      "Linear Regresion :\n",
      "R2 score = 0.5651503625247858\n",
      "Root mean squared error = 52.71224226668631\n",
      "Coefficient of determination = 0.5651503625247858\n",
      "Mean absolute error = 42.43427461237549\n",
      "Mean squared error = 2778.580484781831\n",
      "Maximum error = 156.1655182278922\n",
      "..................................................\n",
      "Lasso :\n",
      "R2 score = 0.3719842416281822\n",
      "Root mean squared error = 63.3471681441053\n",
      "Coefficient of determination = 0.3719842416281822\n",
      "Mean absolute error = 53.28710847651649\n",
      "Mean squared error = 4012.8637118775487\n",
      "Maximum error = 138.41413742758016\n",
      "..................................................\n",
      "DecisionTreeRegressor :\n",
      "R2 score = 0.2295701853330384\n",
      "Root mean squared error = 70.16305247481947\n",
      "Coefficient of determination = 0.2295701853330384\n",
      "Mean absolute error = 56.78651685393258\n",
      "Mean squared error = 4922.853932584269\n",
      "Maximum error = 172.0\n",
      "..................................................\n",
      "Elastic Net :\n",
      "R2 score = 0.007967734647177038\n",
      "Root mean squared error = 79.61682107977181\n",
      "Coefficient of determination = 0.007967734647177038\n",
      "Mean absolute error = 66.85207995472345\n",
      "Mean squared error = 6338.838198848396\n",
      "Maximum error = 193.80173114488824\n",
      "..................................................\n",
      "SVR :\n",
      "R2 score = 0.1540847279379295\n",
      "Root mean squared error = 73.51997780438398\n",
      "Coefficient of determination = 0.1540847279379295\n",
      "Mean absolute error = 60.204524888406475\n",
      "Mean squared error = 5405.187136357114\n",
      "Maximum error = 197.26905459970317\n",
      "..................................................\n"
     ]
    }
   ],
   "source": [
    "for model_name, model in models.items(): \n",
    "    model.fit(X_train, y_train)\n",
    "    y_pred = model.predict(X_test)\n",
    "    r2 = r2_score(y_test, y_pred)\n",
    "    rmse = root_mean_squared_error(y_test, y_pred)\n",
    "    \n",
    "    print(model_name,\":\")\n",
    "    print(\"R2 score =\", r2)\n",
    "    print(\"Root mean squared error =\", rmse)\n",
    "    print(\"Coefficient of determination =\", model.score(X_test, y_test))\n",
    "    print(\"Mean absolute error =\", mean_absolute_error(y_test, y_pred))\n",
    "    print(\"Mean squared error =\", mean_squared_error(y_test, y_pred))\n",
    "    print(\"Maximum error =\", max_error(y_test, y_pred))\n",
    "    print('.'*50)"
   ]
  },
  {
   "cell_type": "markdown",
   "id": "f42a588f-dce1-478f-a255-8ab56281f16e",
   "metadata": {},
   "source": [
    "## Hyperparameters optimization"
   ]
  },
  {
   "cell_type": "markdown",
   "id": "1631bebc-c851-4f7f-aa17-0d6caf11d0c0",
   "metadata": {},
   "source": [
    "#### ElasticNet"
   ]
  },
  {
   "cell_type": "code",
   "execution_count": 9,
   "id": "96aae928-8682-4928-92b9-89d93c139886",
   "metadata": {},
   "outputs": [
    {
     "name": "stdout",
     "output_type": "stream",
     "text": [
      "Best Estimator : ElasticNet(alpha=0.0001, l1_ratio=0.0)\n",
      "R2 score = 0.559687042454662\n",
      "Root mean squared error = 53.04233907335097\n",
      "Coefficient of determination = 0.559687042454662\n",
      "Mean absolute error = 42.870603422306786\n",
      "Mean squared error = 2813.4897343723355\n",
      "Maximum error = 150.9457214013692\n",
      "Time to compute:  56.693178 seconds\n"
     ]
    }
   ],
   "source": [
    "time_start = datetime.now()\n",
    "\n",
    "params = {'alpha': np.linspace(0.0001,1,100),\n",
    "          'l1_ratio' : np.linspace(0,1,10),\n",
    "          'selection' : ['cyclic', 'random']\n",
    "          }\n",
    "\n",
    "elastic_net = ElasticNet()\n",
    "gscv = GridSearchCV(estimator=elastic_net, \n",
    "                    param_grid=params, \n",
    "                    cv=20,\n",
    "                    scoring='neg_mean_squared_error')\n",
    "gscv.fit(X_train, y_train)\n",
    "print(\"Best Estimator :\", gscv.best_estimator_)\n",
    "\n",
    "model = gscv.best_estimator_\n",
    "model.fit(X_train, y_train)\n",
    "y_pred = model.predict(X_test)\n",
    "r2 = r2_score(y_test, y_pred)\n",
    "rmse = root_mean_squared_error(y_test, y_pred)\n",
    "\n",
    "print(\"R2 score =\", r2)\n",
    "print(\"Root mean squared error =\", rmse)\n",
    "print(\"Coefficient of determination =\", model.score(X_test, y_test))\n",
    "print(\"Mean absolute error =\", mean_absolute_error(y_test, y_pred))\n",
    "print(\"Mean squared error =\", mean_squared_error(y_test, y_pred))\n",
    "print(\"Maximum error =\", max_error(y_test, y_pred))\n",
    "\n",
    "time_stop = datetime.now()\n",
    "delta = time_stop - time_start\n",
    "seconds = delta.seconds + delta.microseconds/1E6\n",
    "print('Time to compute: ', seconds, 'seconds')\n",
    "\n",
    "result1 = ('ElasticNet', r2, rmse, seconds)"
   ]
  },
  {
   "cell_type": "markdown",
   "id": "762b4923-e3b4-4517-a922-bf1191d2acb2",
   "metadata": {},
   "source": [
    "#### BayesianRidge"
   ]
  },
  {
   "cell_type": "code",
   "execution_count": 10,
   "id": "35c2cb05-3976-4a2d-9ca9-443c6444bff7",
   "metadata": {},
   "outputs": [
    {
     "name": "stdout",
     "output_type": "stream",
     "text": [
      "Best Estimator : BayesianRidge(alpha_1=1e-07, alpha_2=0.001, lambda_1=0.001, lambda_2=1e-07)\n",
      "R2 score = 0.5597045445884017\n",
      "Root mean squared error = 53.04128486483638\n",
      "Coefficient of determination = 0.5597045445884017\n",
      "Mean absolute error = 42.86821875253007\n",
      "Mean squared error = 2813.3779001127205\n",
      "Maximum error = 151.0234237219454\n",
      "Time to compute:  19.550008 seconds\n"
     ]
    }
   ],
   "source": [
    "time_start = datetime.now()\n",
    "\n",
    "params = {'alpha_1': [1e-03,1e-04,1e-05,1e-06,1e-07],\n",
    "          'alpha_2' : [1e-03,1e-04,1e-05,1e-06,1e-07],\n",
    "          'lambda_1' : [1e-03,1e-04,1e-05,1e-06,1e-07],\n",
    "          'lambda_2' : [1e-03,1e-04,1e-05,1e-06,1e-07]\n",
    "          }\n",
    "\n",
    "baye_ridg = BayesianRidge()\n",
    "gscv = GridSearchCV(estimator=baye_ridg, \n",
    "                    param_grid=params, \n",
    "                    cv=20,\n",
    "                    scoring='neg_mean_squared_error')\n",
    "gscv.fit(X_train, y_train)\n",
    "print(\"Best Estimator :\", gscv.best_estimator_)\n",
    "\n",
    "model = gscv.best_estimator_\n",
    "model.fit(X_train, y_train)\n",
    "y_pred = model.predict(X_test)\n",
    "r2 = r2_score(y_test, y_pred)\n",
    "rmse = root_mean_squared_error(y_test, y_pred)\n",
    "\n",
    "print(\"R2 score =\", r2)\n",
    "print(\"Root mean squared error =\", rmse)\n",
    "print(\"Coefficient of determination =\", model.score(X_test, y_test))\n",
    "print(\"Mean absolute error =\", mean_absolute_error(y_test, y_pred))\n",
    "print(\"Mean squared error =\", mean_squared_error(y_test, y_pred))\n",
    "print(\"Maximum error =\", max_error(y_test, y_pred))\n",
    "\n",
    "time_stop = datetime.now()\n",
    "delta = time_stop - time_start\n",
    "seconds = delta.seconds + delta.microseconds/1E6\n",
    "print('Time to compute: ', seconds, 'seconds')\n",
    "\n",
    "result2 = ('BayesianRidge', r2, rmse, seconds)"
   ]
  },
  {
   "cell_type": "markdown",
   "id": "8cbfaafb-e756-4d5f-8722-45d8fd64459b",
   "metadata": {},
   "source": [
    "#### KNeighborsRegressor"
   ]
  },
  {
   "cell_type": "code",
   "execution_count": 11,
   "id": "7a198d3a-4b86-454b-b133-a7d990eca9f1",
   "metadata": {},
   "outputs": [
    {
     "name": "stdout",
     "output_type": "stream",
     "text": [
      "Best Estimator : KNeighborsRegressor(n_neighbors=12, weights='distance')\n",
      "R2 score = 0.556223541896756\n",
      "Root mean squared error = 53.25054588613651\n",
      "Coefficient of determination = 0.556223541896756\n",
      "Mean absolute error = 41.01160971319077\n",
      "Mean squared error = 2835.6206371715293\n",
      "Maximum error = 143.88626759243783\n",
      "Time to compute:  1.117267 seconds\n"
     ]
    }
   ],
   "source": [
    "time_start = datetime.now()\n",
    "\n",
    "params = {'n_neighbors': [3,4,5,6,7,8,9,10,11,12],\n",
    "          'weights': ['uniform', 'distance'], \n",
    "          'p': [1, 2]  \n",
    "          }\n",
    "\n",
    "knn = KNeighborsRegressor()\n",
    "gscv = GridSearchCV(estimator=knn, \n",
    "                    param_grid=params, \n",
    "                    cv=20,\n",
    "                    scoring='neg_mean_squared_error')\n",
    "gscv.fit(X_train, y_train)\n",
    "print(\"Best Estimator :\", gscv.best_estimator_)\n",
    "\n",
    "model = gscv.best_estimator_\n",
    "model.fit(X_train, y_train)\n",
    "y_pred = model.predict(X_test)\n",
    "r2 = r2_score(y_test, y_pred)\n",
    "rmse = root_mean_squared_error(y_test, y_pred)\n",
    "\n",
    "print(\"R2 score =\", r2)\n",
    "print(\"Root mean squared error =\", rmse)\n",
    "print(\"Coefficient of determination =\", model.score(X_test, y_test))\n",
    "print(\"Mean absolute error =\", mean_absolute_error(y_test, y_pred))\n",
    "print(\"Mean squared error =\", mean_squared_error(y_test, y_pred))\n",
    "print(\"Maximum error =\", max_error(y_test, y_pred))\n",
    "\n",
    "time_stop = datetime.now()\n",
    "delta = time_stop - time_start\n",
    "seconds = delta.seconds + delta.microseconds/1E6\n",
    "print('Time to compute: ', seconds, 'seconds')\n",
    "\n",
    "result3 = ('KNN', r2, rmse, seconds)"
   ]
  },
  {
   "cell_type": "markdown",
   "id": "860fff4f-053f-44e9-a35c-ed6626081bd6",
   "metadata": {},
   "source": [
    "#### SVR"
   ]
  },
  {
   "cell_type": "code",
   "execution_count": 12,
   "id": "427d835a-9db0-4dd8-9c57-cc602fd39438",
   "metadata": {},
   "outputs": [
    {
     "name": "stdout",
     "output_type": "stream",
     "text": [
      "Best Estimator : SVR(C=100, gamma=1)\n",
      "R2 score = 0.5434083888700001\n",
      "Root mean squared error = 54.01394506633181\n",
      "Coefficient of determination = 0.5434083888700001\n",
      "Mean absolute error = 43.788349919203256\n",
      "Mean squared error = 2917.5062616287105\n",
      "Maximum error = 132.12652964377392\n",
      "Time to compute:  0.482517 seconds\n"
     ]
    }
   ],
   "source": [
    "time_start = datetime.now()\n",
    "\n",
    "params = {'C': [1, 10, 100],\n",
    "        'gamma': [0.01, 0.1, 1],\n",
    "        'kernel': ['linear', 'rbf'],   \n",
    "       }\n",
    "\n",
    "kfold = KFold(n_splits=5, random_state=1, shuffle=True)\n",
    "\n",
    "svr = SVR()\n",
    "gscv = GridSearchCV(estimator=svr,\n",
    "                    param_grid=params,\n",
    "                    cv=kfold,\n",
    "                    scoring='neg_mean_squared_error')\n",
    "gscv.fit(X_train, y_train)\n",
    "print(\"Best Estimator :\", gscv.best_estimator_)\n",
    "\n",
    "model = gscv.best_estimator_\n",
    "model.fit(X_train, y_train)\n",
    "y_pred = model.predict(X_test)\n",
    "r2 = r2_score(y_test, y_pred)\n",
    "rmse = root_mean_squared_error(y_test, y_pred)\n",
    "\n",
    "print(\"R2 score =\", r2)\n",
    "print(\"Root mean squared error =\", rmse)\n",
    "print(\"Coefficient of determination =\", model.score(X_test, y_test))\n",
    "print(\"Mean absolute error =\", mean_absolute_error(y_test, y_pred))\n",
    "print(\"Mean squared error =\", mean_squared_error(y_test, y_pred))\n",
    "print(\"Maximum error =\", max_error(y_test, y_pred))\n",
    "\n",
    "time_stop = datetime.now()\n",
    "delta = time_stop - time_start\n",
    "seconds = delta.seconds + delta.microseconds/1E6\n",
    "print('Time to compute: ', seconds, 'seconds')\n",
    "\n",
    "result4 = ('SVR', r2, rmse, seconds)"
   ]
  },
  {
   "cell_type": "markdown",
   "id": "b66eca10-7775-4672-9daf-260082827172",
   "metadata": {},
   "source": [
    "#### DecisionTreeRegressor"
   ]
  },
  {
   "cell_type": "code",
   "execution_count": 13,
   "id": "02066213-e1d3-46c0-855f-057e1e218688",
   "metadata": {},
   "outputs": [
    {
     "name": "stdout",
     "output_type": "stream",
     "text": [
      "Best Estimator : DecisionTreeRegressor(max_depth=9, max_features='sqrt', min_samples_leaf=10,\n",
      "                      min_samples_split=0.2)\n",
      "R2 score = 0.4997499362386807\n",
      "Root mean squared error = 56.53735809805423\n",
      "Coefficient of determination = 0.4997499362386807\n",
      "Mean absolute error = 46.7137324046993\n",
      "Mean squared error = 3196.4728607076177\n",
      "Maximum error = 173.44444444444446\n",
      "Time to compute:  3.282655 seconds\n"
     ]
    }
   ],
   "source": [
    "time_start = datetime.now()\n",
    "\n",
    "params = {'max_depth': np.linspace(1, 10, 10).astype(\"int\"),\n",
    "          'max_features': ['sqrt', 'log2'],\n",
    "          'min_samples_leaf': np.linspace(1, 10, 10).astype(\"int\"),\n",
    "          'min_samples_split': [0.1, 0.2, 0.3],\n",
    "          'criterion': ['squared_error']\n",
    "         }\n",
    "kfold = KFold(n_splits=5, random_state=1, shuffle=True)\n",
    "\n",
    "decision_tree = DecisionTreeRegressor()\n",
    "gscv = GridSearchCV(estimator=decision_tree,\n",
    "                    param_grid=params,\n",
    "                    cv=kfold,\n",
    "                    scoring='neg_mean_squared_error')\n",
    "gscv.fit(X_train, y_train)\n",
    "print(\"Best Estimator :\", gscv.best_estimator_)\n",
    "\n",
    "model = gscv.best_estimator_\n",
    "model.fit(X_train, y_train)\n",
    "y_pred = model.predict(X_test)\n",
    "r2 = r2_score(y_test, y_pred)\n",
    "rmse = root_mean_squared_error(y_test, y_pred)\n",
    "\n",
    "print(\"R2 score =\", r2)\n",
    "print(\"Root mean squared error =\", rmse)\n",
    "print(\"Coefficient of determination =\", model.score(X_test, y_test))\n",
    "print(\"Mean absolute error =\", mean_absolute_error(y_test, y_pred))\n",
    "print(\"Mean squared error =\", mean_squared_error(y_test, y_pred))\n",
    "print(\"Maximum error =\", max_error(y_test, y_pred))\n",
    "\n",
    "time_stop = datetime.now()\n",
    "delta = time_stop - time_start\n",
    "seconds = delta.seconds + delta.microseconds/1E6\n",
    "print('Time to compute: ', seconds, 'seconds')\n",
    "\n",
    "result5 = ('DecisionTreeRegressor', r2, rmse, seconds)"
   ]
  },
  {
   "cell_type": "markdown",
   "id": "83f9bccf-5301-49a5-a8aa-50ec42dda170",
   "metadata": {},
   "source": [
    "#### RandomForestRegressor"
   ]
  },
  {
   "cell_type": "code",
   "execution_count": 14,
   "id": "fe03cbcf-aeab-4e51-a9d1-45afc2b9dc5b",
   "metadata": {},
   "outputs": [
    {
     "name": "stdout",
     "output_type": "stream",
     "text": [
      "Best Estimator : RandomForestRegressor(max_depth=7, max_features='log2', min_samples_leaf=2,\n",
      "                      min_samples_split=0.1)\n",
      "R2 score = 0.5231122295870623\n",
      "Root mean squared error = 55.2013917039004\n",
      "Coefficient of determination = 0.5231122295870623\n",
      "Mean absolute error = 45.19262210087315\n",
      "Mean squared error = 3047.1936460474435\n",
      "Maximum error = 154.17298439608723\n",
      "Time to compute:  241.134673 seconds\n"
     ]
    }
   ],
   "source": [
    "time_start = datetime.now()\n",
    "\n",
    "params = {'max_depth': np.linspace(1, 10, 10).astype(\"int\"),\n",
    "          'max_features': ['sqrt', 'log2'],\n",
    "          'min_samples_leaf': np.linspace(1, 10, 10).astype(\"int\"),\n",
    "          'min_samples_split': [0.1, 0.2, 0.3],\n",
    "          'criterion': ['squared_error']\n",
    "         }\n",
    "kfold = KFold(n_splits=5, random_state=1, shuffle=True)\n",
    "\n",
    "rand_forest = RandomForestRegressor()\n",
    "gscv = GridSearchCV(estimator=rand_forest,\n",
    "                    param_grid=params,\n",
    "                    cv=kfold,\n",
    "                    scoring='neg_mean_squared_error')\n",
    "gscv.fit(X_train, y_train)\n",
    "print(\"Best Estimator :\", gscv.best_estimator_)\n",
    "\n",
    "model = gscv.best_estimator_\n",
    "model.fit(X_train, y_train)\n",
    "y_pred = model.predict(X_test)\n",
    "r2 = r2_score(y_test, y_pred)\n",
    "rmse = root_mean_squared_error(y_test, y_pred)\n",
    "\n",
    "print(\"R2 score =\", r2)\n",
    "print(\"Root mean squared error =\", rmse)\n",
    "print(\"Coefficient of determination =\", model.score(X_test, y_test))\n",
    "print(\"Mean absolute error =\", mean_absolute_error(y_test, y_pred))\n",
    "print(\"Mean squared error =\", mean_squared_error(y_test, y_pred))\n",
    "print(\"Maximum error =\", max_error(y_test, y_pred))\n",
    "\n",
    "time_stop = datetime.now()\n",
    "delta = time_stop - time_start\n",
    "seconds = delta.seconds + delta.microseconds/1E6\n",
    "print('Time to compute: ', seconds, 'seconds')\n",
    "\n",
    "result6 = ('RandomForestRegressor', r2, rmse, seconds)"
   ]
  },
  {
   "cell_type": "markdown",
   "id": "fbf2587b-9f1a-4178-887a-7b89aa4893ac",
   "metadata": {},
   "source": [
    "#### Lasso"
   ]
  },
  {
   "cell_type": "code",
   "execution_count": 15,
   "id": "d382ea0a-59fd-401a-adf6-e1ed0ff19dd7",
   "metadata": {},
   "outputs": [
    {
     "name": "stdout",
     "output_type": "stream",
     "text": [
      "Best Estimator : Lasso(alpha=0.0203)\n",
      "R2 score = 0.55896639327956\n",
      "Root mean squared error = 53.085727860336334\n",
      "Coefficient of determination = 0.55896639327956\n",
      "Mean absolute error = 42.909462057320745\n",
      "Mean squared error = 2818.094502461689\n",
      "Maximum error = 152.87233131326207\n",
      "Time to compute:  2.248498 seconds\n"
     ]
    }
   ],
   "source": [
    "time_start = datetime.now()\n",
    "\n",
    "params = {'alpha': np.linspace(0.0001,1,100),\n",
    "          'selection' : ['cyclic']\n",
    "          }\n",
    "\n",
    "lasso = Lasso()\n",
    "gscv = GridSearchCV(estimator=lasso, \n",
    "                    param_grid=params, \n",
    "                    cv=20,\n",
    "                    scoring='neg_mean_squared_error')\n",
    "gscv.fit(X_train, y_train)\n",
    "print(\"Best Estimator :\", gscv.best_estimator_)\n",
    "\n",
    "model = gscv.best_estimator_\n",
    "model.fit(X_train, y_train)\n",
    "y_pred = model.predict(X_test)\n",
    "r2 = r2_score(y_test, y_pred)\n",
    "rmse = root_mean_squared_error(y_test, y_pred)\n",
    "\n",
    "print(\"R2 score =\", r2)\n",
    "print(\"Root mean squared error =\", rmse)\n",
    "print(\"Coefficient of determination =\", model.score(X_test, y_test))\n",
    "print(\"Mean absolute error =\", mean_absolute_error(y_test, y_pred))\n",
    "print(\"Mean squared error =\", mean_squared_error(y_test, y_pred))\n",
    "print(\"Maximum error =\", max_error(y_test, y_pred))\n",
    "\n",
    "time_stop = datetime.now()\n",
    "delta = time_stop - time_start\n",
    "seconds = delta.seconds + delta.microseconds/1E6\n",
    "print('Time to compute: ', seconds, 'seconds')\n",
    "\n",
    "result7 = ('Lasso', r2, rmse, seconds)"
   ]
  },
  {
   "cell_type": "markdown",
   "id": "2f3ac0f6-f44d-49af-912b-2d50b18e2794",
   "metadata": {},
   "source": [
    "#### LassoCV"
   ]
  },
  {
   "cell_type": "code",
   "execution_count": 16,
   "id": "d80a43d1-ba07-43ae-b25b-d334c2beef36",
   "metadata": {},
   "outputs": [
    {
     "name": "stdout",
     "output_type": "stream",
     "text": [
      "Fitted alpha = 0.0203\n",
      "R2 score = 0.55896639327956\n",
      "Root mean squared error = 53.085727860336334\n",
      "Coefficient of determination = 0.55896639327956\n",
      "Mean absolute error = 42.909462057320745\n",
      "Mean squared error = 2818.094502461689\n",
      "Maximum error = 152.87233131326207\n",
      "Time to compute:  0.174258 seconds\n"
     ]
    }
   ],
   "source": [
    "time_start = datetime.now()\n",
    "\n",
    "model = LassoCV(alphas=np.linspace(0.0001,1,100),\n",
    "                cv=20,\n",
    "                selection='cyclic').fit(X_train, y_train)\n",
    "\n",
    "y_pred = model.predict(X_test)\n",
    "r2 = r2_score(y_test, y_pred)\n",
    "rmse = root_mean_squared_error(y_test, y_pred)\n",
    "\n",
    "print(\"Fitted alpha =\", model.alpha_)\n",
    "print(\"R2 score =\", r2)\n",
    "print(\"Root mean squared error =\", rmse)\n",
    "print(\"Coefficient of determination =\", model.score(X_test, y_test))\n",
    "print(\"Mean absolute error =\", mean_absolute_error(y_test, y_pred))\n",
    "print(\"Mean squared error =\", mean_squared_error(y_test, y_pred))\n",
    "print(\"Maximum error =\", max_error(y_test, y_pred))\n",
    "\n",
    "time_stop = datetime.now()\n",
    "delta = time_stop - time_start\n",
    "seconds = delta.seconds + delta.microseconds/1E6\n",
    "print('Time to compute: ', seconds, 'seconds')\n",
    "\n",
    "result8 = ('LassoCV', r2, rmse, seconds)"
   ]
  },
  {
   "cell_type": "markdown",
   "id": "65bb6479-e028-4f5a-843b-03a4378ea7df",
   "metadata": {},
   "source": [
    "## Performance report "
   ]
  },
  {
   "cell_type": "code",
   "execution_count": 17,
   "id": "a73fb89c-5cf0-48d1-9803-8cfeef25d869",
   "metadata": {},
   "outputs": [
    {
     "data": {
      "text/html": [
       "<div>\n",
       "<style scoped>\n",
       "    .dataframe tbody tr th:only-of-type {\n",
       "        vertical-align: middle;\n",
       "    }\n",
       "\n",
       "    .dataframe tbody tr th {\n",
       "        vertical-align: top;\n",
       "    }\n",
       "\n",
       "    .dataframe thead th {\n",
       "        text-align: right;\n",
       "    }\n",
       "</style>\n",
       "<table border=\"1\" class=\"dataframe\">\n",
       "  <thead>\n",
       "    <tr style=\"text-align: right;\">\n",
       "      <th></th>\n",
       "      <th>model</th>\n",
       "      <th>R2_score</th>\n",
       "      <th>RMSE</th>\n",
       "      <th>computing_time</th>\n",
       "    </tr>\n",
       "  </thead>\n",
       "  <tbody>\n",
       "    <tr>\n",
       "      <th>1</th>\n",
       "      <td>BayesianRidge</td>\n",
       "      <td>0.559705</td>\n",
       "      <td>53.041285</td>\n",
       "      <td>19.550008</td>\n",
       "    </tr>\n",
       "    <tr>\n",
       "      <th>0</th>\n",
       "      <td>ElasticNet</td>\n",
       "      <td>0.559687</td>\n",
       "      <td>53.042339</td>\n",
       "      <td>56.693178</td>\n",
       "    </tr>\n",
       "    <tr>\n",
       "      <th>6</th>\n",
       "      <td>Lasso</td>\n",
       "      <td>0.558966</td>\n",
       "      <td>53.085728</td>\n",
       "      <td>2.248498</td>\n",
       "    </tr>\n",
       "    <tr>\n",
       "      <th>2</th>\n",
       "      <td>KNN</td>\n",
       "      <td>0.556224</td>\n",
       "      <td>53.250546</td>\n",
       "      <td>1.117267</td>\n",
       "    </tr>\n",
       "    <tr>\n",
       "      <th>3</th>\n",
       "      <td>SVR</td>\n",
       "      <td>0.543408</td>\n",
       "      <td>54.013945</td>\n",
       "      <td>0.482517</td>\n",
       "    </tr>\n",
       "    <tr>\n",
       "      <th>5</th>\n",
       "      <td>RandomForestRegressor</td>\n",
       "      <td>0.523112</td>\n",
       "      <td>55.201392</td>\n",
       "      <td>241.134673</td>\n",
       "    </tr>\n",
       "    <tr>\n",
       "      <th>4</th>\n",
       "      <td>DecisionTreeRegressor</td>\n",
       "      <td>0.499750</td>\n",
       "      <td>56.537358</td>\n",
       "      <td>3.282655</td>\n",
       "    </tr>\n",
       "  </tbody>\n",
       "</table>\n",
       "</div>"
      ],
      "text/plain": [
       "                   model  R2_score       RMSE  computing_time\n",
       "1          BayesianRidge  0.559705  53.041285       19.550008\n",
       "0             ElasticNet  0.559687  53.042339       56.693178\n",
       "6                  Lasso  0.558966  53.085728        2.248498\n",
       "2                    KNN  0.556224  53.250546        1.117267\n",
       "3                    SVR  0.543408  54.013945        0.482517\n",
       "5  RandomForestRegressor  0.523112  55.201392      241.134673\n",
       "4  DecisionTreeRegressor  0.499750  56.537358        3.282655"
      ]
     },
     "execution_count": 17,
     "metadata": {},
     "output_type": "execute_result"
    }
   ],
   "source": [
    "df = pd.DataFrame([result1,\n",
    "                   result2,\n",
    "                   result3,\n",
    "                   result4,\n",
    "                   result5,\n",
    "                   result6,\n",
    "                   result7],\n",
    "                  columns=['model', 'R2_score','RMSE','computing_time'])\n",
    "df.sort_values('R2_score', ascending=False)"
   ]
  }
 ],
 "metadata": {
  "kernelspec": {
   "display_name": "Python 3 (ipykernel)",
   "language": "python",
   "name": "python3"
  },
  "language_info": {
   "codemirror_mode": {
    "name": "ipython",
    "version": 3
   },
   "file_extension": ".py",
   "mimetype": "text/x-python",
   "name": "python",
   "nbconvert_exporter": "python",
   "pygments_lexer": "ipython3",
   "version": "3.10.13"
  }
 },
 "nbformat": 4,
 "nbformat_minor": 5
}
