{
 "cells": [
  {
   "cell_type": "markdown",
   "id": "5e347120-c24a-4912-a925-a254865e8242",
   "metadata": {},
   "source": [
    "In this notebook:\n",
    "- We will generate a random regression dataset with `sklearn.datasets.make_regression`\n",
    "- Fit diferent regression models to this dataset\n",
    "- Optimize the model hyperparameters to fine tune our models"
   ]
  },
  {
   "cell_type": "markdown",
   "id": "456f522b-fe5b-4c49-b698-5abc26a01219",
   "metadata": {},
   "source": [
    "## Import modules"
   ]
  },
  {
   "cell_type": "code",
   "execution_count": 1,
   "id": "56401fa5-9506-461f-8c5f-a0f1a0892f25",
   "metadata": {},
   "outputs": [],
   "source": [
    "import numpy as np\n",
    "import pandas as pd\n",
    "from datetime import datetime\n",
    "from sklearn.datasets import make_regression\n",
    "from sklearn.model_selection import train_test_split\n",
    "from sklearn.linear_model import (LinearRegression,\n",
    "                                    Lasso,\n",
    "                                    ElasticNet,\n",
    "                                    BayesianRidge)\n",
    "from sklearn.neighbors import KNeighborsRegressor\n",
    "from sklearn.svm import SVR\n",
    "from sklearn.tree import DecisionTreeRegressor\n",
    "from sklearn.model_selection import KFold, GridSearchCV\n",
    "from sklearn.metrics import (r2_score,\n",
    "                                mean_absolute_error,\n",
    "                                mean_squared_error,\n",
    "                                root_mean_squared_error,\n",
    "                                max_error)\n",
    "import warnings\n",
    "warnings.filterwarnings('ignore')"
   ]
  },
  {
   "cell_type": "markdown",
   "id": "45ed402e-1c01-45c0-80f3-b8fac89d4aa9",
   "metadata": {},
   "source": [
    "## Dataset for regression"
   ]
  },
  {
   "cell_type": "markdown",
   "id": "f0aaea20-1225-4e4e-9d52-b70ace99c8b2",
   "metadata": {},
   "source": [
    "A random regression dataset with a specified number of samples, features, and noise"
   ]
  },
  {
   "cell_type": "code",
   "execution_count": 2,
   "id": "c68cbbc1-7e1f-42eb-beb5-e22da5ca6332",
   "metadata": {},
   "outputs": [],
   "source": [
    "X, y = make_regression(n_samples=2000, n_features=5, noise=0.1, random_state=101)"
   ]
  },
  {
   "cell_type": "code",
   "execution_count": 3,
   "id": "a57d4efd-fd51-45d6-8b11-ccd3c421e1a0",
   "metadata": {},
   "outputs": [],
   "source": [
    "X_train, X_test, y_train, y_test = train_test_split(X, y, test_size=0.25)"
   ]
  },
  {
   "cell_type": "markdown",
   "id": "9373d568-0f53-4046-8365-c97fee423923",
   "metadata": {},
   "source": [
    "## Regresion without hyperparameter optimization"
   ]
  },
  {
   "cell_type": "code",
   "execution_count": 4,
   "id": "1740eec7-4806-4ad8-8c30-04d27b1608d6",
   "metadata": {},
   "outputs": [],
   "source": [
    "models = {'Linear Regresion': LinearRegression(),\n",
    "          'Lasso': Lasso(),\n",
    "          'DecisionTreeRegressor': DecisionTreeRegressor(),\n",
    "          'Elastic Net': ElasticNet(),\n",
    "          'SVR': SVR()\n",
    "         }"
   ]
  },
  {
   "cell_type": "code",
   "execution_count": 5,
   "id": "a6ddc8e4-9450-4db1-a890-be1b3a9911a9",
   "metadata": {},
   "outputs": [
    {
     "name": "stdout",
     "output_type": "stream",
     "text": [
      "Linear Regresion :\n",
      "Coefficient of determination = 0.9999995076279349\n",
      "Mean absolute error = 0.0754229237603947\n",
      "Mean squared error = 0.008847068799527628\n",
      "Root mean squared error = 0.09405885816619096\n",
      "Maximum error = 0.33131109978414486\n",
      "..................................................\n",
      "Lasso :\n",
      "Coefficient of determination = 0.9996939079495237\n",
      "Mean absolute error = 1.8697153508200814\n",
      "Mean squared error = 5.499941246721452\n",
      "Root mean squared error = 2.3451953536371875\n",
      "Maximum error = 8.412865439454833\n",
      "..................................................\n",
      "DecisionTreeRegressor :\n",
      "Coefficient of determination = 0.8302701591900851\n",
      "Mean absolute error = 42.05758784810864\n",
      "Mean squared error = 3049.749742985566\n",
      "Root mean squared error = 55.22453931890755\n",
      "Maximum error = 247.49855009467223\n",
      "..................................................\n",
      "Elastic Net :\n",
      "Coefficient of determination = 0.8795577227523895\n",
      "Mean absolute error = 36.83003436250544\n",
      "Mean squared error = 2164.1380344654103\n",
      "Root mean squared error = 46.52029701609192\n",
      "Maximum error = 166.6101845108518\n",
      "..................................................\n",
      "SVR :\n",
      "Coefficient of determination = 0.6712930274172516\n",
      "Mean absolute error = 49.057464153376394\n",
      "Mean squared error = 5906.292024833148\n",
      "Root mean squared error = 76.85240415779553\n",
      "Maximum error = 436.7743099470012\n",
      "..................................................\n"
     ]
    }
   ],
   "source": [
    "for model_name, model in models.items(): \n",
    "    model.fit(X_train, y_train)\n",
    "    y_pred = model.predict(X_test)\n",
    "    \n",
    "    print(model_name,\":\")\n",
    "    print(\"Coefficient of determination =\", model.score(X_test, y_test))\n",
    "    print(\"Mean absolute error =\", mean_absolute_error(y_test, y_pred))\n",
    "    print(\"Mean squared error =\", mean_squared_error(y_test, y_pred))\n",
    "    print(\"Root mean squared error =\", root_mean_squared_error(y_test, y_pred))\n",
    "    print(\"Maximum error =\", max_error(y_test, y_pred))\n",
    "    print('.'*50)"
   ]
  },
  {
   "cell_type": "markdown",
   "id": "f42a588f-dce1-478f-a255-8ab56281f16e",
   "metadata": {},
   "source": [
    "## Hyperparameters optimization"
   ]
  },
  {
   "cell_type": "markdown",
   "id": "fbf2587b-9f1a-4178-887a-7b89aa4893ac",
   "metadata": {},
   "source": [
    "#### Lasso"
   ]
  },
  {
   "cell_type": "code",
   "execution_count": 6,
   "id": "d382ea0a-59fd-401a-adf6-e1ed0ff19dd7",
   "metadata": {},
   "outputs": [
    {
     "name": "stdout",
     "output_type": "stream",
     "text": [
      "Best Estimator : Lasso(alpha=0.0001)\n",
      "R2 score = 0.9999995076375631\n",
      "Root mean squared error = 0.09405793851368871\n",
      "Coefficient of determination = 0.9999995076375631\n",
      "Mean absolute error = 0.07542469592008828\n",
      "Mean squared error = 0.008846895797444845\n",
      "Maximum error = 0.3314408488294944\n",
      "Time to compute:  4.605217 seconds\n"
     ]
    }
   ],
   "source": [
    "time_start = datetime.now()\n",
    "\n",
    "params = {'alpha': np.linspace(0.0001,1,100),\n",
    "          'selection' : ['cyclic', 'random']\n",
    "          }\n",
    "\n",
    "lasso = Lasso()\n",
    "gscv = GridSearchCV(estimator=lasso, \n",
    "                    param_grid=params, \n",
    "                    cv=20,\n",
    "                    scoring='neg_mean_squared_error')\n",
    "gscv.fit(X_train, y_train)\n",
    "print(\"Best Estimator :\", gscv.best_estimator_)\n",
    "\n",
    "model = gscv.best_estimator_\n",
    "model.fit(X_train, y_train)\n",
    "y_pred = model.predict(X_test)\n",
    "r2 = r2_score(y_test, y_pred)\n",
    "rmse = root_mean_squared_error(y_test, y_pred)\n",
    "\n",
    "print(\"R2 score =\", r2)\n",
    "print(\"Root mean squared error =\", rmse)\n",
    "print(\"Coefficient of determination =\", model.score(X_test, y_test))\n",
    "print(\"Mean absolute error =\", mean_absolute_error(y_test, y_pred))\n",
    "print(\"Mean squared error =\", mean_squared_error(y_test, y_pred))\n",
    "print(\"Maximum error =\", max_error(y_test, y_pred))\n",
    "\n",
    "time_stop = datetime.now()\n",
    "delta = time_stop - time_start\n",
    "seconds = delta.seconds + delta.microseconds/1E6\n",
    "print('Time to compute: ', seconds, 'seconds')\n",
    "\n",
    "result0 = ('Lasso', r2, rmse, seconds)"
   ]
  },
  {
   "cell_type": "markdown",
   "id": "1631bebc-c851-4f7f-aa17-0d6caf11d0c0",
   "metadata": {},
   "source": [
    "#### ElasticNet"
   ]
  },
  {
   "cell_type": "code",
   "execution_count": 7,
   "id": "96aae928-8682-4928-92b9-89d93c139886",
   "metadata": {},
   "outputs": [
    {
     "name": "stdout",
     "output_type": "stream",
     "text": [
      "Best Estimator : ElasticNet(alpha=0.0001, l1_ratio=1.0)\n",
      "R2 score = 0.9999995076375631\n",
      "Root mean squared error = 0.09405793851368871\n",
      "Coefficient of determination = 0.9999995076375631\n",
      "Mean absolute error = 0.07542469592008828\n",
      "Mean squared error = 0.008846895797444845\n",
      "Maximum error = 0.3314408488294944\n",
      "Time to compute:  65.757792 seconds\n"
     ]
    }
   ],
   "source": [
    "time_start = datetime.now()\n",
    "\n",
    "params = {'alpha': np.linspace(0.0001,1,100),\n",
    "          'l1_ratio' : np.linspace(0,1,10),\n",
    "          'selection' : ['cyclic', 'random']\n",
    "          }\n",
    "\n",
    "elastic_net = ElasticNet()\n",
    "gscv = GridSearchCV(estimator=elastic_net, \n",
    "                    param_grid=params, \n",
    "                    cv=20,\n",
    "                    scoring='neg_mean_squared_error')\n",
    "gscv.fit(X_train, y_train)\n",
    "print(\"Best Estimator :\", gscv.best_estimator_)\n",
    "\n",
    "model = gscv.best_estimator_\n",
    "model.fit(X_train, y_train)\n",
    "y_pred = model.predict(X_test)\n",
    "r2 = r2_score(y_test, y_pred)\n",
    "rmse = root_mean_squared_error(y_test, y_pred)\n",
    "\n",
    "print(\"R2 score =\", r2)\n",
    "print(\"Root mean squared error =\", rmse)\n",
    "print(\"Coefficient of determination =\", model.score(X_test, y_test))\n",
    "print(\"Mean absolute error =\", mean_absolute_error(y_test, y_pred))\n",
    "print(\"Mean squared error =\", mean_squared_error(y_test, y_pred))\n",
    "print(\"Maximum error =\", max_error(y_test, y_pred))\n",
    "\n",
    "time_stop = datetime.now()\n",
    "delta = time_stop - time_start\n",
    "seconds = delta.seconds + delta.microseconds/1E6\n",
    "print('Time to compute: ', seconds, 'seconds')\n",
    "\n",
    "result1 = ('ElasticNet', r2, rmse, seconds)"
   ]
  },
  {
   "cell_type": "markdown",
   "id": "762b4923-e3b4-4517-a922-bf1191d2acb2",
   "metadata": {},
   "source": [
    "#### BayesianRidge"
   ]
  },
  {
   "cell_type": "code",
   "execution_count": 8,
   "id": "35c2cb05-3976-4a2d-9ca9-443c6444bff7",
   "metadata": {},
   "outputs": [
    {
     "name": "stdout",
     "output_type": "stream",
     "text": [
      "Best Estimator : BayesianRidge(alpha_1=1e-07)\n",
      "R2 score = 0.9999995076279592\n",
      "Root mean squared error = 0.09405885585132667\n",
      "Coefficient of determination = 0.9999995076279592\n",
      "Mean absolute error = 0.07542291991145109\n",
      "Mean squared error = 0.008847068364060651\n",
      "Maximum error = 0.3313111967855562\n",
      "Time to compute:  19.264602 seconds\n"
     ]
    }
   ],
   "source": [
    "time_start = datetime.now()\n",
    "\n",
    "params = {'alpha_1': [1e-03,1e-04,1e-05,1e-06,1e-07],\n",
    "          'alpha_2' : [1e-03,1e-04,1e-05,1e-06,1e-07],\n",
    "          'lambda_1' : [1e-03,1e-04,1e-05,1e-06,1e-07],\n",
    "          'lambda_2' : [1e-03,1e-04,1e-05,1e-06,1e-07]\n",
    "          }\n",
    "\n",
    "baye_ridg = BayesianRidge()\n",
    "gscv = GridSearchCV(estimator=baye_ridg, \n",
    "                    param_grid=params, \n",
    "                    cv=20,\n",
    "                    scoring='neg_mean_squared_error')\n",
    "gscv.fit(X_train, y_train)\n",
    "print(\"Best Estimator :\", gscv.best_estimator_)\n",
    "\n",
    "model = gscv.best_estimator_\n",
    "model.fit(X_train, y_train)\n",
    "y_pred = model.predict(X_test)\n",
    "r2 = r2_score(y_test, y_pred)\n",
    "rmse = root_mean_squared_error(y_test, y_pred)\n",
    "\n",
    "print(\"R2 score =\", r2)\n",
    "print(\"Root mean squared error =\", rmse)\n",
    "print(\"Coefficient of determination =\", model.score(X_test, y_test))\n",
    "print(\"Mean absolute error =\", mean_absolute_error(y_test, y_pred))\n",
    "print(\"Mean squared error =\", mean_squared_error(y_test, y_pred))\n",
    "print(\"Maximum error =\", max_error(y_test, y_pred))\n",
    "\n",
    "time_stop = datetime.now()\n",
    "delta = time_stop - time_start\n",
    "seconds = delta.seconds + delta.microseconds/1E6\n",
    "print('Time to compute: ', seconds, 'seconds')\n",
    "\n",
    "result2 = ('BayesianRidge', r2, rmse, seconds)"
   ]
  },
  {
   "cell_type": "markdown",
   "id": "8cbfaafb-e756-4d5f-8722-45d8fd64459b",
   "metadata": {},
   "source": [
    "#### KNeighborsRegressor"
   ]
  },
  {
   "cell_type": "code",
   "execution_count": 9,
   "id": "7a198d3a-4b86-454b-b133-a7d990eca9f1",
   "metadata": {},
   "outputs": [
    {
     "name": "stdout",
     "output_type": "stream",
     "text": [
      "Best Estimator : KNeighborsRegressor(n_neighbors=8, weights='distance')\n",
      "R2 score = 0.9400235104995984\n",
      "Root mean squared error = 32.82793168042318\n",
      "Coefficient of determination = 0.9400235104995984\n",
      "Mean absolute error = 23.192706528985983\n",
      "Mean squared error = 1077.6730984145315\n",
      "Maximum error = 195.86678120716346\n",
      "Time to compute:  1.915726 seconds\n"
     ]
    }
   ],
   "source": [
    "time_start = datetime.now()\n",
    "\n",
    "params = {'n_neighbors': [3,4,5,6,7,8,9,10,11,12],\n",
    "          'weights': ['uniform', 'distance'], \n",
    "          'p': [1, 2]  \n",
    "          }\n",
    "\n",
    "knn = KNeighborsRegressor()\n",
    "gscv = GridSearchCV(estimator=knn, \n",
    "                    param_grid=params, \n",
    "                    cv=20,\n",
    "                    scoring='neg_mean_squared_error')\n",
    "gscv.fit(X_train, y_train)\n",
    "print(\"Best Estimator :\", gscv.best_estimator_)\n",
    "\n",
    "model = gscv.best_estimator_\n",
    "model.fit(X_train, y_train)\n",
    "y_pred = model.predict(X_test)\n",
    "r2 = r2_score(y_test, y_pred)\n",
    "rmse = root_mean_squared_error(y_test, y_pred)\n",
    "\n",
    "print(\"R2 score =\", r2)\n",
    "print(\"Root mean squared error =\", rmse)\n",
    "print(\"Coefficient of determination =\", model.score(X_test, y_test))\n",
    "print(\"Mean absolute error =\", mean_absolute_error(y_test, y_pred))\n",
    "print(\"Mean squared error =\", mean_squared_error(y_test, y_pred))\n",
    "print(\"Maximum error =\", max_error(y_test, y_pred))\n",
    "\n",
    "time_stop = datetime.now()\n",
    "delta = time_stop - time_start\n",
    "seconds = delta.seconds + delta.microseconds/1E6\n",
    "print('Time to compute: ', seconds, 'seconds')\n",
    "\n",
    "result3 = ('KNN', r2, rmse, seconds)"
   ]
  },
  {
   "cell_type": "markdown",
   "id": "860fff4f-053f-44e9-a35c-ed6626081bd6",
   "metadata": {},
   "source": [
    "#### SVR"
   ]
  },
  {
   "cell_type": "code",
   "execution_count": 10,
   "id": "427d835a-9db0-4dd8-9c57-cc602fd39438",
   "metadata": {},
   "outputs": [
    {
     "name": "stdout",
     "output_type": "stream",
     "text": [
      "Best Estimator : SVR(C=100, gamma=0.01, kernel='linear')\n",
      "R2 score = 0.9999995069115029\n",
      "Root mean squared error = 0.09412726404752102\n",
      "Coefficient of determination = 0.9999995069115029\n",
      "Mean absolute error = 0.07545018331821629\n",
      "Mean squared error = 0.008859941837071743\n",
      "Maximum error = 0.3378939578173359\n",
      "Time to compute:  74.57242 seconds\n"
     ]
    }
   ],
   "source": [
    "time_start = datetime.now()\n",
    "\n",
    "params = {'C': [1, 10, 100],\n",
    "        'gamma': [0.01, 0.1, 1],\n",
    "        'kernel': ['linear', 'rbf'],   \n",
    "       }\n",
    "\n",
    "kfold = KFold(n_splits=5, random_state=1, shuffle=True)\n",
    "\n",
    "svr = SVR()\n",
    "gscv = GridSearchCV(estimator=svr,\n",
    "                    param_grid=params,\n",
    "                    cv=kfold,\n",
    "                    scoring='neg_mean_squared_error')\n",
    "gscv.fit(X_train, y_train)\n",
    "print(\"Best Estimator :\", gscv.best_estimator_)\n",
    "\n",
    "model = gscv.best_estimator_\n",
    "model.fit(X_train, y_train)\n",
    "y_pred = model.predict(X_test)\n",
    "r2 = r2_score(y_test, y_pred)\n",
    "rmse = root_mean_squared_error(y_test, y_pred)\n",
    "\n",
    "print(\"R2 score =\", r2)\n",
    "print(\"Root mean squared error =\", rmse)\n",
    "print(\"Coefficient of determination =\", model.score(X_test, y_test))\n",
    "print(\"Mean absolute error =\", mean_absolute_error(y_test, y_pred))\n",
    "print(\"Mean squared error =\", mean_squared_error(y_test, y_pred))\n",
    "print(\"Maximum error =\", max_error(y_test, y_pred))\n",
    "\n",
    "time_stop = datetime.now()\n",
    "delta = time_stop - time_start\n",
    "seconds = delta.seconds + delta.microseconds/1E6\n",
    "print('Time to compute: ', seconds, 'seconds')\n",
    "\n",
    "result4 = ('SVR', r2, rmse, seconds)"
   ]
  },
  {
   "cell_type": "markdown",
   "id": "b66eca10-7775-4672-9daf-260082827172",
   "metadata": {},
   "source": [
    "#### DecisionTreeRegressor"
   ]
  },
  {
   "cell_type": "code",
   "execution_count": 11,
   "id": "02066213-e1d3-46c0-855f-057e1e218688",
   "metadata": {},
   "outputs": [
    {
     "name": "stdout",
     "output_type": "stream",
     "text": [
      "Best Estimator : DecisionTreeRegressor(max_depth=10, max_features='log2', min_samples_leaf=5,\n",
      "                      min_samples_split=0.1)\n",
      "R2 score = 0.6433496848274426\n",
      "Root mean squared error = 80.05239060985791\n",
      "Coefficient of determination = 0.6433496848274426\n",
      "Mean absolute error = 61.584604507189695\n",
      "Mean squared error = 6408.385242353266\n",
      "Maximum error = 336.792117507726\n",
      "Time to compute:  4.909028 seconds\n"
     ]
    }
   ],
   "source": [
    "time_start = datetime.now()\n",
    "\n",
    "params = {'max_depth': np.linspace(1, 10, 10).astype(\"int\"),\n",
    "          'max_features': ['sqrt', 'log2'],\n",
    "          'min_samples_leaf': np.linspace(1, 10, 10).astype(\"int\"),\n",
    "          'min_samples_split': [0.1, 0.2, 0.3],\n",
    "          'criterion': ['squared_error']\n",
    "         }\n",
    "kfold = KFold(n_splits=5, random_state=1, shuffle=True)\n",
    "\n",
    "decision_tree = DecisionTreeRegressor()\n",
    "gscv = GridSearchCV(estimator=decision_tree,\n",
    "                    param_grid=params,\n",
    "                    cv=kfold,\n",
    "                    scoring='neg_mean_squared_error')\n",
    "gscv.fit(X_train, y_train)\n",
    "print(\"Best Estimator :\", gscv.best_estimator_)\n",
    "\n",
    "model = gscv.best_estimator_\n",
    "model.fit(X_train, y_train)\n",
    "y_pred = model.predict(X_test)\n",
    "r2 = r2_score(y_test, y_pred)\n",
    "rmse = root_mean_squared_error(y_test, y_pred)\n",
    "\n",
    "print(\"R2 score =\", r2)\n",
    "print(\"Root mean squared error =\", rmse)\n",
    "print(\"Coefficient of determination =\", model.score(X_test, y_test))\n",
    "print(\"Mean absolute error =\", mean_absolute_error(y_test, y_pred))\n",
    "print(\"Mean squared error =\", mean_squared_error(y_test, y_pred))\n",
    "print(\"Maximum error =\", max_error(y_test, y_pred))\n",
    "\n",
    "time_stop = datetime.now()\n",
    "delta = time_stop - time_start\n",
    "seconds = delta.seconds + delta.microseconds/1E6\n",
    "print('Time to compute: ', seconds, 'seconds')\n",
    "\n",
    "result5 = ('DecisionTreeRegressor', r2, rmse, seconds)"
   ]
  },
  {
   "cell_type": "markdown",
   "id": "65bb6479-e028-4f5a-843b-03a4378ea7df",
   "metadata": {},
   "source": [
    "## Performance report "
   ]
  },
  {
   "cell_type": "code",
   "execution_count": 12,
   "id": "a73fb89c-5cf0-48d1-9803-8cfeef25d869",
   "metadata": {},
   "outputs": [
    {
     "data": {
      "text/html": [
       "<div>\n",
       "<style scoped>\n",
       "    .dataframe tbody tr th:only-of-type {\n",
       "        vertical-align: middle;\n",
       "    }\n",
       "\n",
       "    .dataframe tbody tr th {\n",
       "        vertical-align: top;\n",
       "    }\n",
       "\n",
       "    .dataframe thead th {\n",
       "        text-align: right;\n",
       "    }\n",
       "</style>\n",
       "<table border=\"1\" class=\"dataframe\">\n",
       "  <thead>\n",
       "    <tr style=\"text-align: right;\">\n",
       "      <th></th>\n",
       "      <th>model</th>\n",
       "      <th>R2_score</th>\n",
       "      <th>RMSE</th>\n",
       "      <th>computing_time</th>\n",
       "    </tr>\n",
       "  </thead>\n",
       "  <tbody>\n",
       "    <tr>\n",
       "      <th>0</th>\n",
       "      <td>Lasso</td>\n",
       "      <td>1.000000</td>\n",
       "      <td>0.094058</td>\n",
       "      <td>4.605217</td>\n",
       "    </tr>\n",
       "    <tr>\n",
       "      <th>1</th>\n",
       "      <td>ElasticNet</td>\n",
       "      <td>1.000000</td>\n",
       "      <td>0.094058</td>\n",
       "      <td>65.757792</td>\n",
       "    </tr>\n",
       "    <tr>\n",
       "      <th>2</th>\n",
       "      <td>BayesianRidge</td>\n",
       "      <td>1.000000</td>\n",
       "      <td>0.094059</td>\n",
       "      <td>19.264602</td>\n",
       "    </tr>\n",
       "    <tr>\n",
       "      <th>4</th>\n",
       "      <td>SVR</td>\n",
       "      <td>1.000000</td>\n",
       "      <td>0.094127</td>\n",
       "      <td>74.572420</td>\n",
       "    </tr>\n",
       "    <tr>\n",
       "      <th>3</th>\n",
       "      <td>KNN</td>\n",
       "      <td>0.940024</td>\n",
       "      <td>32.827932</td>\n",
       "      <td>1.915726</td>\n",
       "    </tr>\n",
       "    <tr>\n",
       "      <th>5</th>\n",
       "      <td>DecisionTreeRegressor</td>\n",
       "      <td>0.643350</td>\n",
       "      <td>80.052391</td>\n",
       "      <td>4.909028</td>\n",
       "    </tr>\n",
       "  </tbody>\n",
       "</table>\n",
       "</div>"
      ],
      "text/plain": [
       "                   model  R2_score       RMSE  computing_time\n",
       "0                  Lasso  1.000000   0.094058        4.605217\n",
       "1             ElasticNet  1.000000   0.094058       65.757792\n",
       "2          BayesianRidge  1.000000   0.094059       19.264602\n",
       "4                    SVR  1.000000   0.094127       74.572420\n",
       "3                    KNN  0.940024  32.827932        1.915726\n",
       "5  DecisionTreeRegressor  0.643350  80.052391        4.909028"
      ]
     },
     "execution_count": 12,
     "metadata": {},
     "output_type": "execute_result"
    }
   ],
   "source": [
    "df = pd.DataFrame([result0,\n",
    "                   result1,\n",
    "                   result2,\n",
    "                   result3,\n",
    "                   result4,\n",
    "                   result5],\n",
    "                  columns=['model', 'R2_score','RMSE','computing_time'])\n",
    "df.sort_values('R2_score', ascending=False)"
   ]
  }
 ],
 "metadata": {
  "kernelspec": {
   "display_name": "Python 3 (ipykernel)",
   "language": "python",
   "name": "python3"
  },
  "language_info": {
   "codemirror_mode": {
    "name": "ipython",
    "version": 3
   },
   "file_extension": ".py",
   "mimetype": "text/x-python",
   "name": "python",
   "nbconvert_exporter": "python",
   "pygments_lexer": "ipython3",
   "version": "3.10.13"
  }
 },
 "nbformat": 4,
 "nbformat_minor": 5
}
